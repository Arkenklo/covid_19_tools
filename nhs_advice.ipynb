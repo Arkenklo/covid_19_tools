{
 "cells": [
  {
   "cell_type": "code",
   "execution_count": 1,
   "metadata": {},
   "outputs": [],
   "source": [
    "from selenium.webdriver import Chrome\n",
    "from sklearn import tree\n",
    "import graphviz\n",
    "import pandas as pd\n",
    "\n",
    "from datetime import datetime, timedelta\n",
    "from random import choice, randint"
   ]
  },
  {
   "cell_type": "code",
   "execution_count": 2,
   "metadata": {},
   "outputs": [],
   "source": [
    "# Click the submit button\n",
    "def submit(driver, n=1):\n",
    "    for i in range(n):\n",
    "        driver.find_element_by_css_selector('button.button--next').click()"
   ]
  },
  {
   "cell_type": "code",
   "execution_count": 3,
   "metadata": {},
   "outputs": [],
   "source": [
    "# Respond to a question page\n",
    "def respond(driver, data):\n",
    "    text = driver.find_element_by_tag_name('h1').text\n",
    "    if text == 'When did your symptoms start?':\n",
    "        # Enter date for when symptoms started\n",
    "        date = datetime.now() - timedelta(days=randint(0,60))\n",
    "        data[text] = date\n",
    "        driver.find_element_by_id('SymptomsStart_Day').send_keys(date.day)\n",
    "        driver.find_element_by_id('SymptomsStart_Month').send_keys(date.month)\n",
    "        driver.find_element_by_id('SymptomsStart_Year').send_keys(date.year)\n",
    "    else:\n",
    "        # Click on a choice\n",
    "        choices = driver.find_elements_by_css_selector('input[name=\"SelectedAnswer\"]')\n",
    "        try:\n",
    "            selected = choice(choices)\n",
    "            data[text] = selected.get_attribute('id')\n",
    "            selected.click()\n",
    "        except:\n",
    "            # Survey is over; record header as outcome (advice)\n",
    "            data['Outcome'] = text\n",
    "            \n",
    "    try:\n",
    "        next_btn = driver.find_element_by_css_selector('button.button--next')\n",
    "    except:\n",
    "        next_btn = None\n",
    "    if next_btn is not None and next_btn.text.startswith('Next'):\n",
    "        # Continue to next page\n",
    "        submit(driver)\n",
    "        return respond(driver, data)\n",
    "    return data"
   ]
  },
  {
   "cell_type": "code",
   "execution_count": 4,
   "metadata": {},
   "outputs": [],
   "source": [
    "def take_survey(driver):\n",
    "    # Click through preliminary pages and start survey\n",
    "    driver.get('https://111.nhs.uk/service/COVID-19/')\n",
    "    submit(driver)\n",
    "    driver.find_element_by_id('CurrentPostcode').send_keys('cb2 1rf')\n",
    "    submit(driver, 2)\n",
    "    age = str(randint(5,100))\n",
    "    driver.find_element_by_id('UserInfo_Demography_Age').send_keys(age)\n",
    "    sex = choice(['Male','Female'])\n",
    "    driver.find_element_by_id(sex).click()\n",
    "    submit(driver, 2)\n",
    "    return respond(driver, {'age': age, 'sex': sex})"
   ]
  },
  {
   "cell_type": "code",
   "execution_count": 9,
   "metadata": {},
   "outputs": [],
   "source": [
    "# Run 100 participants through the survey\n",
    "driver = Chrome()\n",
    "data = []\n",
    "for i in range(100):\n",
    "    print(i)\n",
    "    try:\n",
    "        data.append(take_survey(driver))\n",
    "    except:\n",
    "        print('An error occurred')\n",
    "driver.close()\n",
    "df = pd.DataFrame(data)"
   ]
  },
  {
   "cell_type": "code",
   "execution_count": 10,
   "metadata": {},
   "outputs": [
    {
     "data": {
      "text/html": [
       "<div>\n",
       "<style scoped>\n",
       "    .dataframe tbody tr th:only-of-type {\n",
       "        vertical-align: middle;\n",
       "    }\n",
       "\n",
       "    .dataframe tbody tr th {\n",
       "        vertical-align: top;\n",
       "    }\n",
       "\n",
       "    .dataframe thead th {\n",
       "        text-align: right;\n",
       "    }\n",
       "</style>\n",
       "<table border=\"1\" class=\"dataframe\">\n",
       "  <thead>\n",
       "    <tr style=\"text-align: right;\">\n",
       "      <th></th>\n",
       "      <th>age</th>\n",
       "      <th>sex</th>\n",
       "      <th>Do you have a high temperature (fever)?</th>\n",
       "      <th>Do you have a new continuous cough?</th>\n",
       "      <th>Before you continue</th>\n",
       "      <th>Outcome</th>\n",
       "      <th>When did your symptoms start?</th>\n",
       "      <th>Are you so breathless that you are unable to speak more than a few words?</th>\n",
       "      <th>Are you breathing harder or faster than usual when doing nothing at all?</th>\n",
       "      <th>Are you so ill that you've stopped doing all of your usual daily activities?</th>\n",
       "      <th>Have you suddenly become confused, or much more confused than normal?</th>\n",
       "      <th>How has your breathing been in the last hour?</th>\n",
       "      <th>Has a doctor told you that getting an infection might be very serious?</th>\n",
       "    </tr>\n",
       "  </thead>\n",
       "  <tbody>\n",
       "    <tr>\n",
       "      <th>0</th>\n",
       "      <td>57</td>\n",
       "      <td>Male</td>\n",
       "      <td>Yes</td>\n",
       "      <td>Yes</td>\n",
       "      <td>Next</td>\n",
       "      <td>Call 111 and speak to a nurse now</td>\n",
       "      <td>2020-02-25 08:27:46.325584</td>\n",
       "      <td>I'mnotsure</td>\n",
       "      <td>No</td>\n",
       "      <td>Ifeelillbutcandosomeofmyusualactivities</td>\n",
       "      <td>Yes</td>\n",
       "      <td>NaN</td>\n",
       "      <td>NaN</td>\n",
       "    </tr>\n",
       "    <tr>\n",
       "      <th>1</th>\n",
       "      <td>53</td>\n",
       "      <td>Male</td>\n",
       "      <td>Yes</td>\n",
       "      <td>No</td>\n",
       "      <td>Next</td>\n",
       "      <td>Phone 999 now for an ambulance</td>\n",
       "      <td>2020-02-19 08:27:57.539771</td>\n",
       "      <td>Yes</td>\n",
       "      <td>NaN</td>\n",
       "      <td>NaN</td>\n",
       "      <td>NaN</td>\n",
       "      <td>NaN</td>\n",
       "      <td>NaN</td>\n",
       "    </tr>\n",
       "    <tr>\n",
       "      <th>2</th>\n",
       "      <td>89</td>\n",
       "      <td>Male</td>\n",
       "      <td>Yes</td>\n",
       "      <td>Yes</td>\n",
       "      <td>Next</td>\n",
       "      <td>Call 111 and speak to a nurse now</td>\n",
       "      <td>2020-02-17 08:28:05.836143</td>\n",
       "      <td>No</td>\n",
       "      <td>No</td>\n",
       "      <td>No-Ifeelwellenoughtodomostofmyusualdailyactivi...</td>\n",
       "      <td>Yes</td>\n",
       "      <td>NaN</td>\n",
       "      <td>NaN</td>\n",
       "    </tr>\n",
       "    <tr>\n",
       "      <th>3</th>\n",
       "      <td>74</td>\n",
       "      <td>Male</td>\n",
       "      <td>No</td>\n",
       "      <td>Yes</td>\n",
       "      <td>Next</td>\n",
       "      <td>Phone 999 now for an ambulance</td>\n",
       "      <td>2020-02-13 08:28:15.365690</td>\n",
       "      <td>Yes</td>\n",
       "      <td>NaN</td>\n",
       "      <td>NaN</td>\n",
       "      <td>NaN</td>\n",
       "      <td>NaN</td>\n",
       "      <td>NaN</td>\n",
       "    </tr>\n",
       "    <tr>\n",
       "      <th>4</th>\n",
       "      <td>69</td>\n",
       "      <td>Male</td>\n",
       "      <td>Yes</td>\n",
       "      <td>No</td>\n",
       "      <td>Next</td>\n",
       "      <td>Phone 999 now for an ambulance</td>\n",
       "      <td>2020-03-01 08:28:22.839485</td>\n",
       "      <td>Yes</td>\n",
       "      <td>NaN</td>\n",
       "      <td>NaN</td>\n",
       "      <td>NaN</td>\n",
       "      <td>NaN</td>\n",
       "      <td>NaN</td>\n",
       "    </tr>\n",
       "  </tbody>\n",
       "</table>\n",
       "</div>"
      ],
      "text/plain": [
       "  age   sex Do you have a high temperature (fever)?  \\\n",
       "0  57  Male                                     Yes   \n",
       "1  53  Male                                     Yes   \n",
       "2  89  Male                                     Yes   \n",
       "3  74  Male                                      No   \n",
       "4  69  Male                                     Yes   \n",
       "\n",
       "  Do you have a new continuous cough? Before you continue  \\\n",
       "0                                 Yes                Next   \n",
       "1                                  No                Next   \n",
       "2                                 Yes                Next   \n",
       "3                                 Yes                Next   \n",
       "4                                  No                Next   \n",
       "\n",
       "                             Outcome When did your symptoms start?  \\\n",
       "0  Call 111 and speak to a nurse now    2020-02-25 08:27:46.325584   \n",
       "1     Phone 999 now for an ambulance    2020-02-19 08:27:57.539771   \n",
       "2  Call 111 and speak to a nurse now    2020-02-17 08:28:05.836143   \n",
       "3     Phone 999 now for an ambulance    2020-02-13 08:28:15.365690   \n",
       "4     Phone 999 now for an ambulance    2020-03-01 08:28:22.839485   \n",
       "\n",
       "  Are you so breathless that you are unable to speak more than a few words?  \\\n",
       "0                                         I'mnotsure                          \n",
       "1                                                Yes                          \n",
       "2                                                 No                          \n",
       "3                                                Yes                          \n",
       "4                                                Yes                          \n",
       "\n",
       "  Are you breathing harder or faster than usual when doing nothing at all?  \\\n",
       "0                                                 No                         \n",
       "1                                                NaN                         \n",
       "2                                                 No                         \n",
       "3                                                NaN                         \n",
       "4                                                NaN                         \n",
       "\n",
       "  Are you so ill that you've stopped doing all of your usual daily activities?  \\\n",
       "0            Ifeelillbutcandosomeofmyusualactivities                             \n",
       "1                                                NaN                             \n",
       "2  No-Ifeelwellenoughtodomostofmyusualdailyactivi...                             \n",
       "3                                                NaN                             \n",
       "4                                                NaN                             \n",
       "\n",
       "  Have you suddenly become confused, or much more confused than normal?  \\\n",
       "0                                                Yes                      \n",
       "1                                                NaN                      \n",
       "2                                                Yes                      \n",
       "3                                                NaN                      \n",
       "4                                                NaN                      \n",
       "\n",
       "  How has your breathing been in the last hour?  \\\n",
       "0                                           NaN   \n",
       "1                                           NaN   \n",
       "2                                           NaN   \n",
       "3                                           NaN   \n",
       "4                                           NaN   \n",
       "\n",
       "  Has a doctor told you that getting an infection might be very serious?  \n",
       "0                                                NaN                      \n",
       "1                                                NaN                      \n",
       "2                                                NaN                      \n",
       "3                                                NaN                      \n",
       "4                                                NaN                      "
      ]
     },
     "execution_count": 10,
     "metadata": {},
     "output_type": "execute_result"
    }
   ],
   "source": [
    "df.head()"
   ]
  },
  {
   "cell_type": "code",
   "execution_count": 11,
   "metadata": {},
   "outputs": [
    {
     "name": "stdout",
     "output_type": "stream",
     "text": [
      "1.0\n"
     ]
    }
   ],
   "source": [
    "# These cells should all output 1.0 to indicate the decision tree has not changed\n",
    "tmp = df[(df['Do you have a high temperature (fever)?']=='No')&(df['Do you have a new continuous cough?']=='No')]\n",
    "print((tmp['Outcome'] == 'Find the right topic').astype(int).mean())"
   ]
  },
  {
   "cell_type": "code",
   "execution_count": 12,
   "metadata": {},
   "outputs": [
    {
     "name": "stdout",
     "output_type": "stream",
     "text": [
      "1.0\n"
     ]
    }
   ],
   "source": [
    "tmp = df[df['Are you so breathless that you are unable to speak more than a few words?']=='Yes']\n",
    "print((tmp['Outcome'] == 'Phone 999 now for an ambulance').astype(int).mean())"
   ]
  },
  {
   "cell_type": "code",
   "execution_count": 13,
   "metadata": {},
   "outputs": [
    {
     "name": "stdout",
     "output_type": "stream",
     "text": [
      "1.0\n"
     ]
    }
   ],
   "source": [
    "tmp = df[df['How has your breathing been in the last hour?']==\"It'sworse\"]\n",
    "print((tmp['Outcome'] == 'Phone 999 now for an ambulance').astype(int).mean())"
   ]
  },
  {
   "cell_type": "code",
   "execution_count": 14,
   "metadata": {},
   "outputs": [
    {
     "name": "stdout",
     "output_type": "stream",
     "text": [
      "1.0\n"
     ]
    }
   ],
   "source": [
    "tmp = df[df[\"Are you so ill that you've stopped doing all of your usual daily activities?\"]==\"Yes-I'vestoppeddoingeverythingIusuallydo\"]\n",
    "print((tmp['Outcome'] == 'Call 111 and speak to a nurse now').astype(int).mean())"
   ]
  },
  {
   "cell_type": "code",
   "execution_count": 15,
   "metadata": {},
   "outputs": [
    {
     "name": "stdout",
     "output_type": "stream",
     "text": [
      "1.0\n"
     ]
    }
   ],
   "source": [
    "tmp = df[df['Have you suddenly become confused, or much more confused than normal?']=='Yes']\n",
    "print((tmp['Outcome'] == 'Call 111 and speak to a nurse now').astype(int).mean())"
   ]
  },
  {
   "cell_type": "code",
   "execution_count": 16,
   "metadata": {},
   "outputs": [
    {
     "name": "stdout",
     "output_type": "stream",
     "text": [
      "1.0\n"
     ]
    }
   ],
   "source": [
    "tmp = df[df['Has a doctor told you that getting an infection might be very serious?']=='Yes']\n",
    "print((tmp['Outcome'] == 'Call 111 and speak to a nurse now').astype(int).mean())"
   ]
  },
  {
   "cell_type": "code",
   "execution_count": 17,
   "metadata": {},
   "outputs": [
    {
     "name": "stdout",
     "output_type": "stream",
     "text": [
      "1.0\n"
     ]
    }
   ],
   "source": [
    "tmp = df[df['Has a doctor told you that getting an infection might be very serious?']=='No']\n",
    "print((tmp['Outcome'] == 'You and your family need to stay at home').astype(int).mean())"
   ]
  },
  {
   "cell_type": "code",
   "execution_count": null,
   "metadata": {},
   "outputs": [],
   "source": []
  }
 ],
 "metadata": {
  "kernelspec": {
   "display_name": "Python 3",
   "language": "python",
   "name": "python3"
  },
  "language_info": {
   "codemirror_mode": {
    "name": "ipython",
    "version": 3
   },
   "file_extension": ".py",
   "mimetype": "text/x-python",
   "name": "python",
   "nbconvert_exporter": "python",
   "pygments_lexer": "ipython3",
   "version": "3.6.8"
  }
 },
 "nbformat": 4,
 "nbformat_minor": 4
}
