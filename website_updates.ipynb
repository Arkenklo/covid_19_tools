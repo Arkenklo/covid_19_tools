{
 "cells": [
  {
   "cell_type": "code",
   "execution_count": 1,
   "metadata": {},
   "outputs": [],
   "source": [
    "from bs4 import BeautifulSoup\n",
    "\n",
    "from glob import glob\n",
    "import pickle\n",
    "import requests"
   ]
  },
  {
   "cell_type": "code",
   "execution_count": 2,
   "metadata": {},
   "outputs": [],
   "source": [
    "# ADD URLS TO TRACK HERE\n",
    "urls = [\n",
    "    # CDC\n",
    "    'https://www.cdc.gov/coronavirus/2019-ncov/index.html',\n",
    "    'https://www.cdc.gov/coronavirus/2019-ncov/prepare/prevention.html',\n",
    "    'https://www.cdc.gov/coronavirus/2019-ncov/if-you-are-sick/steps-when-sick.html',\n",
    "    'https://www.cdc.gov/coronavirus/2019-ncov/symptoms-testing/symptoms.html',\n",
    "    'https://www.cdc.gov/coronavirus/2019-ncov/specific-groups/high-risk-complications.html',\n",
    "    'https://www.cdc.gov/coronavirus/2019-ncov/prepare/index.html',\n",
    "    'https://www.cdc.gov/coronavirus/2019-ncov/travelers/index.html',\n",
    "    'https://www.cdc.gov/coronavirus/2019-ncov/community/schools-childcare/index.html',\n",
    "    'https://www.cdc.gov/coronavirus/2019-ncov/community/organizations/businesses-employers.html',\n",
    "    'https://www.cdc.gov/coronavirus/2019-ncov/community/organizations/index.html',\n",
    "    'https://www.cdc.gov/coronavirus/2019-ncov/cases-updates/cases-in-us.html',\n",
    "    'https://www.cdc.gov/coronavirus/2019-ncov/cases-updates/summary.html',\n",
    "    # WHO\n",
    "    'https://www.who.int/health-topics/coronavirus',\n",
    "    'https://www.who.int/emergencies/diseases/novel-coronavirus-2019/advice-for-public',\n",
    "    'https://www.who.int/news-room/q-a-detail/q-a-coronaviruses',\n",
    "    'https://www.who.int/emergencies/diseases/novel-coronavirus-2019/travel-advice',\n",
    "    'https://www.who.int/emergencies/diseases/novel-coronavirus-2019/advice-for-public/myth-busters',\n",
    "    'https://experience.arcgis.com/experience/685d0ace521648f8a5beeeee1b9125cd',\n",
    "    'https://www.who.int/emergencies/diseases/novel-coronavirus-2019/situation-reports',\n",
    "    # NHS\n",
    "    'https://www.nhs.uk/conditions/coronavirus-covid-19/',\n",
    "    'https://www.nhs.uk/conditions/coronavirus-covid-19/self-isolation-advice/',\n",
    "    'https://www.gov.uk/guidance/travel-advice-novel-coronavirus',\n",
    "    'https://www.gov.uk/government/publications/coronavirus-action-plan',\n",
    "    'https://www.gov.uk/guidance/wuhan-novel-coronavirus-information-for-the-public',\n",
    "    # NIH\n",
    "    'https://search.nih.gov/search/docs?utf8=%E2%9C%93&affiliate=nih&dc=565&query=coronavirus+or+covid-19',\n",
    "]"
   ]
  },
  {
   "cell_type": "code",
   "execution_count": 3,
   "metadata": {},
   "outputs": [
    {
     "name": "stdout",
     "output_type": "stream",
     "text": [
      "https://www.cdc.gov/coronavirus/2019-ncov/index.html\n",
      "https://www.cdc.gov/coronavirus/2019-ncov/if-you-are-sick/steps-when-sick.html\n",
      "https://www.cdc.gov/coronavirus/2019-ncov/symptoms-testing/symptoms.html\n",
      "https://www.cdc.gov/coronavirus/2019-ncov/specific-groups/high-risk-complications.html\n",
      "https://www.cdc.gov/coronavirus/2019-ncov/prepare/index.html\n",
      "https://www.cdc.gov/coronavirus/2019-ncov/travelers/index.html\n",
      "https://www.cdc.gov/coronavirus/2019-ncov/community/schools-childcare/index.html\n",
      "https://www.cdc.gov/coronavirus/2019-ncov/community/organizations/businesses-employers.html\n",
      "https://www.cdc.gov/coronavirus/2019-ncov/community/organizations/index.html\n",
      "https://www.cdc.gov/coronavirus/2019-ncov/cases-updates/cases-in-us.html\n",
      "https://www.cdc.gov/coronavirus/2019-ncov/cases-updates/summary.html\n",
      "https://www.who.int/health-topics/coronavirus\n",
      "https://www.who.int/emergencies/diseases/novel-coronavirus-2019/advice-for-public\n",
      "https://www.who.int/news-room/q-a-detail/q-a-coronaviruses\n",
      "https://www.who.int/emergencies/diseases/novel-coronavirus-2019/travel-advice\n",
      "https://www.who.int/emergencies/diseases/novel-coronavirus-2019/advice-for-public/myth-busters\n",
      "https://experience.arcgis.com/experience/685d0ace521648f8a5beeeee1b9125cd\n",
      "https://www.who.int/emergencies/diseases/novel-coronavirus-2019/situation-reports\n",
      "https://www.nhs.uk/conditions/coronavirus-covid-19/\n",
      "https://www.nhs.uk/conditions/coronavirus-covid-19/self-isolation-advice/\n",
      "https://www.gov.uk/guidance/travel-advice-novel-coronavirus\n",
      "https://www.gov.uk/government/publications/coronavirus-action-plan\n",
      "https://www.gov.uk/guidance/wuhan-novel-coronavirus-information-for-the-public\n",
      "https://search.nih.gov/search/docs?utf8=%E2%9C%93&affiliate=nih&dc=565&query=coronavirus+or+covid-19\n"
     ]
    }
   ],
   "source": [
    "# Get texts previously posted on URL pages\n",
    "if glob('website_text.p'):\n",
    "    with open('website_text.p', 'rb') as f:\n",
    "        prev_texts = pickle.load(f)\n",
    "else:\n",
    "    prev_texts = {}\n",
    "\n",
    "# Scrape texts currently posted on URL pages\n",
    "curr_texts = {}\n",
    "for url in urls:\n",
    "    curr_text = BeautifulSoup(requests.get(url).content).body.text\n",
    "    curr_texts[url] = curr_text\n",
    "    if curr_text != prev_texts.get(url):\n",
    "        # Print URL if change is detected\n",
    "        print(url)\n",
    "        \n",
    "# Save current texts for next run\n",
    "with open('website_text.p', 'wb') as f:\n",
    "    pickle.dump(curr_texts, f)"
   ]
  },
  {
   "cell_type": "code",
   "execution_count": null,
   "metadata": {},
   "outputs": [],
   "source": []
  }
 ],
 "metadata": {
  "kernelspec": {
   "display_name": "Python 3",
   "language": "python",
   "name": "python3"
  },
  "language_info": {
   "codemirror_mode": {
    "name": "ipython",
    "version": 3
   },
   "file_extension": ".py",
   "mimetype": "text/x-python",
   "name": "python",
   "nbconvert_exporter": "python",
   "pygments_lexer": "ipython3",
   "version": "3.6.8"
  }
 },
 "nbformat": 4,
 "nbformat_minor": 4
}
